{
 "cells": [
  {
   "cell_type": "markdown",
   "metadata": {},
   "source": [
    "# Section 2: Reddit Submission Analysis"
   ]
  },
  {
   "cell_type": "markdown",
   "metadata": {
    "collapsed": true
   },
   "source": [
    "While I initially wanted to use the Twitter API to answer this question, I found the free version of the service to be quite restrictive, very limited in the number of Tweets that could be accessed and the time period over which I could search. \n",
    "\n",
    "Instead, I opted to use Reddit, a content aggregator site containing communities (subreddits) that are focused on different topics. Users can submit new posts to each subreddit, sort them communally, and comment on each post. While having these different community themes can be a bit challenging for analysis, they also provide unique insights into how users perceive the \"fit\" of content; what sorts of submissions fall under broad categories such as \"news\" (general news stories) and \"politics\" (general political news, with some US focus), or more niche communities like \"woodworking\" (discussion of the hobby) or \"personalfinancecanada\" (personal finance advice for Canada, specifically).\n",
    "\n",
    "Reddit is much more generous in the way it allows users to access data. The Reddit API can be a bit difficult to use for my questions, but thankfully, there are also a number of API wrappers and separate repositories that can be used to query this same data in different ways.\n",
    "\n",
    "For this project, I chose to use the [__PushShift API__](https://github.com/pushshift/api), which queries a growing repository containing Reddit submissions and comments going back to the site's creation in 2006. __By searching for all reddit submissions containing the keywords \"climate change\" and \"global warming\" in the last 10 years, I hope to  produce a dataset that may be used to analyze trends in language associated with these terms that is less sensitive to recent trends (unlike the Twitter API). __"
   ]
  },
  {
   "cell_type": "markdown",
   "metadata": {},
   "source": [
    "### Assembling the dataset\n",
    "\n",
    "To assemble a dataset using the PushShift API, I followed a similar framework to the excercises in class - querying the API using requests and iteratively writing the dataset in chunks. In contrasts to the datasets we used in class, however, it's easy for this dataset to be quite large - Reddit is one of the most popular websites on the internet and global warming / climate change is a hot button issue.\n",
    "\n",
    "The PushShift API can return up to 500 submissions at a time, ordered in sequence from a start (in epoch time). To iteratively query all entries from a defined start date, I generated a function that:\n",
    "\n",
    "1. Queries the PushShift API to return 500 submissions from a defined start date (1/1/2008)\n",
    "2. Parse this JSON and write into a Pandas DataFrame\n",
    "3. Add identifying columns corresponding to the searchterm used (climate change / global warming)\n",
    "4. Return the epoch time (+1) of the last returned submission, which is the startdate of the next search.\n",
    "\n",
    "Because this dataset had a potential to be quite large (in both length and number of variables), I also chose to write this into an SQL database to use memory more efficiently, as well as to serve as a basis for any subsequent analyses. I'm particularly interested in looking at the text of individual comments for each of these sources, but considering that some submissions have >10,000 comments each, this seemed likely to produce some computing headaches and could delay analysis of the project. Storing my data in SQL is likely to ease this sort of data collection if performed later."
   ]
  },
  {
   "cell_type": "code",
   "execution_count": 1,
   "metadata": {
    "scrolled": true
   },
   "outputs": [
    {
     "name": "stderr",
     "output_type": "stream",
     "text": [
      "C:\\Users\\ebatz\\Anaconda3\\lib\\site-packages\\statsmodels\\compat\\pandas.py:56: FutureWarning:\n",
      "\n",
      "The pandas.core.datetools module is deprecated and will be removed in a future version. Please use the pandas.tseries module instead.\n",
      "\n"
     ]
    }
   ],
   "source": [
    "import requests\n",
    "import requests_cache\n",
    "import time\n",
    "import datetime\n",
    "import pandas as pd\n",
    "import sqlalchemy\n",
    "import plotly\n",
    "import plotly.plotly as py\n",
    "import numpy as np\n",
    "from plotly.graph_objs import *\n",
    "import statsmodels.api as sm\n",
    "\n",
    "# Setting plot format \n",
    "plotly.tools.set_credentials_file(username='ebatzer', api_key='BIJOCGPZqKooZ16thhcw')\n",
    "%matplotlib inline\n",
    "requests_cache.install_cache('reddit_cache')"
   ]
  },
  {
   "cell_type": "code",
   "execution_count": 2,
   "metadata": {
    "collapsed": true
   },
   "outputs": [],
   "source": [
    "url = \"https://api.pushshift.io/reddit/search/submission/\"\n",
    "\n",
    "# Sets dates - will run for all days between start and end\n",
    "dstart = datetime.date(2008, 1, 1)\n",
    "dend = datetime.date(2018, 1, 1)\n",
    "steps = (dend - dstart).days\n",
    "\n",
    "# Sets timesteps (start date, the first timestep, and the size between them, in epochs)\n",
    "t0 = pd.to_numeric(time.mktime(time.strptime(\"2008/01/01 00:00:00 GMT\", \"%Y/%m/%d %H:%M:%S %Z\")))\n",
    "t1 = pd.to_numeric(time.mktime(time.strptime(\"2018/01/01 00:00:00 GMT\", \"%Y/%m/%d %H:%M:%S %Z\")))\n",
    "\n",
    "# Define the search subs function:\n",
    "def search_subs(url, searchterm, sub, size, after, before):\n",
    "    \n",
    "    \"\"\"\n",
    "    Queries PushShift api to return data on Reddit Submissions with a given keyword\n",
    "    \n",
    "    Input:\n",
    "        url(str): API URL of interest\n",
    "        sub(str): The subreddits to focus on (can be left as Null for all subreddits)\n",
    "        size(int): Total number of submission to return per query (max 500)\n",
    "        after(int): Search for submissions after this date in epoch time\n",
    "        before(int): Search for submissions before this data in epoch time\n",
    "    \n",
    "    \"\"\"\n",
    "    \n",
    "    # Requests PushShift API\n",
    "    req = requests.get(url, params = {\"title\" : searchterm,\n",
    "                                     \"after\": after,\n",
    "                                     \"before\": before,\n",
    "                                     \"subreddit\": sub,\n",
    "                                     \"size\": size})\n",
    "\n",
    "    # Selects data element\n",
    "    subdata = pd.DataFrame(req.json()['data'])\n",
    "    \n",
    "    # Adds identifying columns\n",
    "    subdata[\"searchstart\"] = time.strftime('%Y-%m-%d %H:%M:%S', time.localtime(after))\n",
    "    subdata[\"searchend\"] = time.strftime('%Y-%m-%d %H:%M:%S', time.localtime(before))\n",
    "    subdata[\"keyword\"] = searchterm\n",
    "    \n",
    "    return(subdata, subdata[\"created_utc\"].iloc[-1])"
   ]
  },
  {
   "cell_type": "markdown",
   "metadata": {},
   "source": [
    "Below is code that queries the API and produces an SQL database (subs.db) with two tables -- those submissions returned from searching for \"climate change\" or \"global warming\".\n",
    "\n",
    "__Note: This code takes a while to process, in part because I chose to sleep after each request to avoid stressing the server. Running lines in the next two cells will cause the notebook to take at least 2-3 hours to run.__"
   ]
  },
  {
   "cell_type": "code",
   "execution_count": 3,
   "metadata": {
    "collapsed": true
   },
   "outputs": [],
   "source": [
    "engine = sqlalchemy.create_engine('sqlite:///data/subs.db')\n",
    "\n",
    "search_utc = int(t0)\n",
    "outputdf = dict()\n",
    "count = 1\n",
    "\n",
    "# while search_utc < int(t1) :\n",
    "#     subs, search_utc = search_subs( \n",
    "#             url = url, \n",
    "#             searchterm = \"climate change\", \n",
    "#             sub = None, \n",
    "#             after = search_utc,\n",
    "#             before = None,\n",
    "#             size = 500)   \n",
    "\n",
    "#     cols = [\"author\", \"created_utc\", \"domain\", \"id\", \"num_comments\",\n",
    "#            \"permalink\", \"score\", \"subreddit\", \"subreddit_id\",\n",
    "#            \"title\", \"url\", \"searchstart\", \"searchend\", \"keyword\"]\n",
    "\n",
    "#     subs = subs[cols]\n",
    "#     subs.to_sql(\"cctable\", engine, if_exists = \"append\")\n",
    "    \n",
    "#     search_utc = search_utc + 1\n",
    "\n",
    "#     if count % 25 == 0:\n",
    "#         print(\"Current time is %s\" % time.strftime('%Y-%m-%d %H:%M:%S',\n",
    "#                                                    time.localtime(search_utc)))\n",
    "        \n",
    "#     count = count + 1\n",
    "      \n",
    "#     # Sleep to avoid over-requesting\n",
    "#     time.sleep(1)"
   ]
  },
  {
   "cell_type": "code",
   "execution_count": 4,
   "metadata": {
    "collapsed": true
   },
   "outputs": [],
   "source": [
    "search_utc = int(t0)\n",
    "outputdf = dict()\n",
    "count = 1\n",
    "\n",
    "# while search_utc < int(t1) :\n",
    "#     subs, search_utc = search_subs( \n",
    "#             url = url, \n",
    "#             searchterm = \"global warming\", \n",
    "#             sub = None, \n",
    "#             after = search_utc,\n",
    "#             before = None,\n",
    "#             size = 500)\n",
    "    \n",
    "#     cols = [\"author\", \"created_utc\", \"domain\", \"id\", \"num_comments\",\n",
    "#            \"permalink\", \"score\", \"subreddit\", \"subreddit_id\",\n",
    "#            \"title\", \"url\", \"searchstart\", \"searchend\", \"keyword\"]\n",
    "#     subs = subs[cols]\n",
    "#     subs.to_sql(\"gwtable\", engine, if_exists = \"append\")\n",
    "    \n",
    "#     search_utc = search_utc + 1\n",
    "\n",
    "#     if count % 25 == 0:\n",
    "#         print(\"Current time is %s\" % time.strftime('%Y-%m-%d %H:%M:%S',\n",
    "#                                                    time.localtime(search_utc)))\n",
    "        \n",
    "#     count = count + 1\n",
    "      \n",
    "#     # Sleep to avoid over-requesting\n",
    "#     time.sleep(1)"
   ]
  },
  {
   "cell_type": "markdown",
   "metadata": {},
   "source": [
    "## Initial Data Analysis and Summary Statistics"
   ]
  },
  {
   "cell_type": "markdown",
   "metadata": {},
   "source": [
    "Before any in-depth analysis, I first decided to generate some relevant summary statistics to characterize general patterns. To begin, this dataset has 298,000 unique observations distribution over a large number of different subreddits and submitter ID's.\n",
    "\n",
    "Knowing that discourse on the internet can often be monopilized by certain users and communities, I set out to determine:\n",
    "\n",
    "- Which communities contained the greatest number of relevant submissions?\n",
    "- Are certain communities more dominated by some users than others?\n",
    "- What sources are these different submissions based on?"
   ]
  },
  {
   "cell_type": "code",
   "execution_count": 5,
   "metadata": {
    "collapsed": true,
    "scrolled": false
   },
   "outputs": [],
   "source": [
    "# Querying datasets\n",
    "\n",
    "gwcounts = pd.read_sql(\"\"\"SELECT subreddit, COUNT(subreddit) \n",
    "FROM gwtable\n",
    "GROUP BY subreddit\n",
    "ORDER BY COUNT(subreddit) DESC\n",
    "\"\"\",\n",
    "               con = engine)\n",
    "\n",
    "cccounts = pd.read_sql(\"\"\"SELECT subreddit, COUNT(subreddit) \n",
    "FROM cctable\n",
    "GROUP BY subreddit\n",
    "ORDER BY COUNT(subreddit) DESC\n",
    "\"\"\",\n",
    "               con = engine)\n",
    "\n",
    "authors = pd.read_sql(\"\"\"SELECT subreddit, COUNT(DISTINCT author) \n",
    "FROM gwtable\n",
    "GROUP BY subreddit\n",
    "ORDER BY COUNT(DISTINCT author) DESC\n",
    "\"\"\",\n",
    "               con = engine)\n",
    "\n",
    "# Generating some basic summary statistics\n",
    "\n",
    "gwcounts.columns = ['subreddit', 'gw_counts']\n",
    "cccounts.columns = ['subreddit', 'cc_counts']\n",
    "authors.columns = ['subreddit', 'authors']\n",
    "\n",
    "keywords = pd.merge(gwcounts, cccounts)\n",
    "keywords = pd.merge(keywords, authors)\n",
    "\n",
    "keywords[\"total\"] = keywords[\"cc_counts\"] + keywords[\"gw_counts\"]\n",
    "keywords[\"gw_frac\"] = keywords[\"gw_counts\"] / keywords[\"total\"]\n",
    "keywords[\"cc_frac\"] = keywords[\"cc_counts\"] / keywords[\"total\"]\n",
    "keywords[\"aut_frac\"] = keywords[\"authors\"] / keywords[\"total\"]"
   ]
  },
  {
   "cell_type": "markdown",
   "metadata": {},
   "source": [
    "## How are submissions distributed across different communities?\n",
    "\n",
    "To begin, I first looked at the distribution of the reddit submissions across different communities (subreddits). While an uneven distribution is to be expected (user activity in these different communities varies widely), a single subreddit containing >50% of all submissions might be problematic.\n",
    "\n",
    "In fact, we do see a highly skewed distribution - many subreddits only contain a single hit in our search, but there are a number of highly popular communities. In general, \"climate change\" appears to be a more popular term than \"global warming\"."
   ]
  },
  {
   "cell_type": "code",
   "execution_count": 6,
   "metadata": {
    "scrolled": false
   },
   "outputs": [
    {
     "name": "stderr",
     "output_type": "stream",
     "text": [
      "C:\\Users\\ebatz\\Anaconda3\\lib\\site-packages\\ipykernel_launcher.py:3: RuntimeWarning:\n",
      "\n",
      "divide by zero encountered in log\n",
      "\n",
      "C:\\Users\\ebatz\\Anaconda3\\lib\\site-packages\\ipykernel_launcher.py:8: RuntimeWarning:\n",
      "\n",
      "divide by zero encountered in log\n",
      "\n",
      "C:\\Users\\ebatz\\Anaconda3\\lib\\site-packages\\ipykernel_launcher.py:13: RuntimeWarning:\n",
      "\n",
      "divide by zero encountered in log\n",
      "\n"
     ]
    },
    {
     "name": "stdout",
     "output_type": "stream",
     "text": [
      "This is the format of your plot grid:\n",
      "[ (1,1) x1,y1 ]  [ (1,2) x2,y2 ]  [ (1,3) x3,y3 ]\n",
      "\n"
     ]
    },
    {
     "data": {
      "text/html": [
       "<iframe id=\"igraph\" scrolling=\"no\" style=\"border:none;\" seamless=\"seamless\" src=\"https://plot.ly/~ebatzer/248.embed\" height=\"600px\" width=\"600px\"></iframe>"
      ],
      "text/plain": [
       "<plotly.tools.PlotlyDisplay object>"
      ]
     },
     "execution_count": 6,
     "metadata": {},
     "output_type": "execute_result"
    }
   ],
   "source": [
    "trace1 = Scatter(\n",
    "    x=keywords.sort_values(\"total\", ascending = False)[\"subreddit\"],\n",
    "    y=np.log(keywords.sort_values(\"total\", ascending = False)[\"total\"])\n",
    ")\n",
    "\n",
    "trace2 = Scatter(\n",
    "    x=keywords.sort_values(\"cc_counts\", ascending = False)[\"subreddit\"],\n",
    "    y=np.log(keywords.sort_values(\"cc_counts\", ascending = False)[\"cc_counts\"])\n",
    ")\n",
    "\n",
    "trace3 = Scatter(\n",
    "    x=keywords.sort_values(\"gw_counts\", ascending = False)[\"subreddit\"],\n",
    "    y=np.log(keywords.sort_values(\"gw_counts\", ascending = False)[\"gw_counts\"])\n",
    ")\n",
    "\n",
    "fig = plotly.tools.make_subplots(rows=1, cols=3)\n",
    "\n",
    "fig.append_trace(trace1, 1, 1)\n",
    "fig.append_trace(trace2, 1, 2)\n",
    "fig.append_trace(trace3, 1, 3)\n",
    "\n",
    "\n",
    "fig['layout'].update(height=600, width=600, title='Total keyword mentions (log scale)')\n",
    "py.iplot(fig, filename='simple-subplot')"
   ]
  },
  {
   "cell_type": "markdown",
   "metadata": {},
   "source": [
    "## Are some communities dominated by a small number of power users?\n",
    "\n",
    "The prevalence of individual \"power users\" in some communities may produce significant issues for any text analysis - if a majority of documents in a corpus are produced by a single user, any analysis may be biased towards trends present within this user's language, failing to be representative of the whole.\n",
    "\n",
    "These plots, where points vary in size based on the number of submissions and are colored by the frequency of keyword use, show the relationship between total number of posts and the number of unique authors responsible for those posts. While there's an apparent linear relationship between these two variables, a number of posts from some communities are being submitted by a very small number of users. This isn't unexpected, given patterns of content distribution on the internet, but it is likely important to remove these from our analysis when performing any sort of text analysis or classification."
   ]
  },
  {
   "cell_type": "code",
   "execution_count": 7,
   "metadata": {
    "scrolled": false
   },
   "outputs": [
    {
     "name": "stderr",
     "output_type": "stream",
     "text": [
      "C:\\Users\\ebatz\\Anaconda3\\lib\\site-packages\\ipykernel_launcher.py:4: RuntimeWarning:\n",
      "\n",
      "divide by zero encountered in log\n",
      "\n",
      "C:\\Users\\ebatz\\Anaconda3\\lib\\site-packages\\ipykernel_launcher.py:5: RuntimeWarning:\n",
      "\n",
      "divide by zero encountered in log\n",
      "\n",
      "C:\\Users\\ebatz\\Anaconda3\\lib\\site-packages\\ipykernel_launcher.py:7: RuntimeWarning:\n",
      "\n",
      "divide by zero encountered in log\n",
      "\n"
     ]
    },
    {
     "data": {
      "image/png": "[encoded data removed]",
      "text/plain": [
       "<IPython.core.display.Image object>"
      ]
     },
     "metadata": {},
     "output_type": "display_data"
    }
   ],
   "source": [
    "# Create traces\n",
    "data = Data([\n",
    "    Scatter(\n",
    "        y= np.log(keywords.sort_values(\"total\", ascending = False)[\"total\"]),\n",
    "        x= np.log(keywords.sort_values(\"total\", ascending = False)[\"authors\"]),\n",
    "        marker=Marker(\n",
    "            size= np.log(keywords.sort_values(\"total\", ascending = False)[\"total\"]) * 2,\n",
    "            cmax=1,\n",
    "            cmin=0,\n",
    "            color= keywords.sort_values(\"total\", ascending = False)[\"cc_frac\"],\n",
    "            colorbar=ColorBar(\n",
    "                title='Climate Change Fraction'\n",
    "            ),\n",
    "            colorscale='Viridis'\n",
    "        ),\n",
    "        mode='markers',\n",
    "        name='Markers',\n",
    "        text=keywords.sort_values(\"total\", ascending = False)[\"subreddit\"],\n",
    "        textposition='bottom',\n",
    "        showlegend = False)\n",
    "])\n",
    "\n",
    "\n",
    "layout = Layout(\n",
    "    title='Activity vs. Unique Authors',\n",
    "    xaxis=dict(\n",
    "        title='Number of Unique Authors (log scale)',\n",
    "        titlefont=dict(\n",
    "            size=18,\n",
    "            color='#7f7f7f'\n",
    "        ),\n",
    "        showgrid=False\n",
    "    ),\n",
    "    yaxis=dict(\n",
    "        title='Total Number of Posts (log scale)',\n",
    "        titlefont=dict(\n",
    "            size=18,\n",
    "            color='#7f7f7f'\n",
    "        ),\n",
    "        showgrid=False\n",
    "    )\n",
    ")\n",
    "\n",
    "fig = Figure(data = data, layout = layout)\n",
    "py.image.ishow(fig)"
   ]
  },
  {
   "cell_type": "markdown",
   "metadata": {},
   "source": [
    "### Which subreddits talk the most about climate change and global warming?\n",
    "\n",
    "Because Reddit data is neatly categorized into defined communities, we may be able to make some inferences based on patterns of keyword usage between different groups. The following tables display:\n",
    "\n",
    "- Subreddit: Community in which posts were found\n",
    "- GW_counts/CC_counts: The total number of submissions in each community for \"global warming\" and \"climate change\" keywords, respectively.\n",
    "- Authors: The total number of unique authors for posts found in each subreddit.\n",
    "- Total: Total number of posts found in each subreddit\n",
    "- GW_frac/CC_frac/AUT_frac: The fraction of posts that contain the terms \"global warming\", \"climate change\", or the ratio between total number of posts and unique authors.\n",
    "\n",
    "I see two key types of communities in this dataset - those that are advocates for climate science, such as \"environment\", \"EcoInternet\", \"climate\", and \"science\" - and those that are antagonist or question questioning - such as \"climateskeptics\" or \"AskReddit\". However, as noted before, we also see that some communities are dominated by single groups; namely, \"POLITIC\" and \"EcoInternet\", which are actually news aggregators where an automated program submits headlines to their corresponding community."
   ]
  },
  {
   "cell_type": "code",
   "execution_count": 8,
   "metadata": {
    "scrolled": true
   },
   "outputs": [
    {
     "data": {
      "text/html": [
       "<div>\n",
       "<style scoped>\n",
       "    .dataframe tbody tr th:only-of-type {\n",
       "        vertical-align: middle;\n",
       "    }\n",
       "\n",
       "    .dataframe tbody tr th {\n",
       "        vertical-align: top;\n",
       "    }\n",
       "\n",
       "    .dataframe thead th {\n",
       "        text-align: right;\n",
       "    }\n",
       "</style>\n",
       "<table border=\"1\" class=\"dataframe\">\n",
       "  <thead>\n",
       "    <tr style=\"text-align: right;\">\n",
       "      <th></th>\n",
       "      <th>subreddit</th>\n",
       "      <th>gw_counts</th>\n",
       "      <th>cc_counts</th>\n",
       "      <th>authors</th>\n",
       "      <th>total</th>\n",
       "      <th>gw_frac</th>\n",
       "      <th>cc_frac</th>\n",
       "      <th>aut_frac</th>\n",
       "    </tr>\n",
       "  </thead>\n",
       "  <tbody>\n",
       "    <tr>\n",
       "      <th>0</th>\n",
       "      <td>environment</td>\n",
       "      <td>6876</td>\n",
       "      <td>22549</td>\n",
       "      <td>2109</td>\n",
       "      <td>29425</td>\n",
       "      <td>0.233679</td>\n",
       "      <td>0.766321</td>\n",
       "      <td>0.071674</td>\n",
       "    </tr>\n",
       "    <tr>\n",
       "      <th>12</th>\n",
       "      <td>EcoInternet</td>\n",
       "      <td>1586</td>\n",
       "      <td>17293</td>\n",
       "      <td>2</td>\n",
       "      <td>18879</td>\n",
       "      <td>0.084009</td>\n",
       "      <td>0.915991</td>\n",
       "      <td>0.000106</td>\n",
       "    </tr>\n",
       "    <tr>\n",
       "      <th>2</th>\n",
       "      <td>politics</td>\n",
       "      <td>4343</td>\n",
       "      <td>12488</td>\n",
       "      <td>1800</td>\n",
       "      <td>16831</td>\n",
       "      <td>0.258036</td>\n",
       "      <td>0.741964</td>\n",
       "      <td>0.106946</td>\n",
       "    </tr>\n",
       "    <tr>\n",
       "      <th>7</th>\n",
       "      <td>climate</td>\n",
       "      <td>2357</td>\n",
       "      <td>9978</td>\n",
       "      <td>469</td>\n",
       "      <td>12335</td>\n",
       "      <td>0.191082</td>\n",
       "      <td>0.808918</td>\n",
       "      <td>0.038022</td>\n",
       "    </tr>\n",
       "    <tr>\n",
       "      <th>3</th>\n",
       "      <td>reddit.com</td>\n",
       "      <td>4148</td>\n",
       "      <td>7340</td>\n",
       "      <td>2316</td>\n",
       "      <td>11488</td>\n",
       "      <td>0.361072</td>\n",
       "      <td>0.638928</td>\n",
       "      <td>0.201602</td>\n",
       "    </tr>\n",
       "    <tr>\n",
       "      <th>4</th>\n",
       "      <td>science</td>\n",
       "      <td>4047</td>\n",
       "      <td>6955</td>\n",
       "      <td>1981</td>\n",
       "      <td>11002</td>\n",
       "      <td>0.367842</td>\n",
       "      <td>0.632158</td>\n",
       "      <td>0.180058</td>\n",
       "    </tr>\n",
       "    <tr>\n",
       "      <th>1</th>\n",
       "      <td>climateskeptics</td>\n",
       "      <td>4374</td>\n",
       "      <td>4626</td>\n",
       "      <td>526</td>\n",
       "      <td>9000</td>\n",
       "      <td>0.486000</td>\n",
       "      <td>0.514000</td>\n",
       "      <td>0.058444</td>\n",
       "    </tr>\n",
       "    <tr>\n",
       "      <th>10</th>\n",
       "      <td>worldnews</td>\n",
       "      <td>2046</td>\n",
       "      <td>6026</td>\n",
       "      <td>960</td>\n",
       "      <td>8072</td>\n",
       "      <td>0.253469</td>\n",
       "      <td>0.746531</td>\n",
       "      <td>0.118930</td>\n",
       "    </tr>\n",
       "    <tr>\n",
       "      <th>8</th>\n",
       "      <td>POLITIC</td>\n",
       "      <td>2072</td>\n",
       "      <td>4916</td>\n",
       "      <td>36</td>\n",
       "      <td>6988</td>\n",
       "      <td>0.296508</td>\n",
       "      <td>0.703492</td>\n",
       "      <td>0.005152</td>\n",
       "    </tr>\n",
       "    <tr>\n",
       "      <th>6</th>\n",
       "      <td>AskReddit</td>\n",
       "      <td>2811</td>\n",
       "      <td>4107</td>\n",
       "      <td>1784</td>\n",
       "      <td>6918</td>\n",
       "      <td>0.406331</td>\n",
       "      <td>0.593669</td>\n",
       "      <td>0.257878</td>\n",
       "    </tr>\n",
       "  </tbody>\n",
       "</table>\n",
       "</div>"
      ],
      "text/plain": [
       "          subreddit  gw_counts  cc_counts  authors  total   gw_frac   cc_frac  \\\n",
       "0       environment       6876      22549     2109  29425  0.233679  0.766321   \n",
       "12      EcoInternet       1586      17293        2  18879  0.084009  0.915991   \n",
       "2          politics       4343      12488     1800  16831  0.258036  0.741964   \n",
       "7           climate       2357       9978      469  12335  0.191082  0.808918   \n",
       "3        reddit.com       4148       7340     2316  11488  0.361072  0.638928   \n",
       "4           science       4047       6955     1981  11002  0.367842  0.632158   \n",
       "1   climateskeptics       4374       4626      526   9000  0.486000  0.514000   \n",
       "10        worldnews       2046       6026      960   8072  0.253469  0.746531   \n",
       "8           POLITIC       2072       4916       36   6988  0.296508  0.703492   \n",
       "6         AskReddit       2811       4107     1784   6918  0.406331  0.593669   \n",
       "\n",
       "    aut_frac  \n",
       "0   0.071674  \n",
       "12  0.000106  \n",
       "2   0.106946  \n",
       "7   0.038022  \n",
       "3   0.201602  \n",
       "4   0.180058  \n",
       "1   0.058444  \n",
       "10  0.118930  \n",
       "8   0.005152  \n",
       "6   0.257878  "
      ]
     },
     "execution_count": 8,
     "metadata": {},
     "output_type": "execute_result"
    }
   ],
   "source": [
    "keywords.sort_values(\"total\", ascending = False).iloc[:10,]"
   ]
  },
  {
   "cell_type": "markdown",
   "metadata": {},
   "source": [
    "If we remove these communities dominated by a small number of users (I'm assuming a unique author fraction of >.01 is appropriate) or a limited number of submission (my threshold is > 2000), trends become easier to interpret. The table below shows the communities that have the highest usage of \"climate change\" in their submissions. These communities may be described as \"pro-science\" and are focused on disseminating climate science news (though \"collapse\" has a distinctly apocalyptic tone)."
   ]
  },
  {
   "cell_type": "code",
   "execution_count": 9,
   "metadata": {
    "scrolled": true
   },
   "outputs": [
    {
     "data": {
      "text/html": [
       "<div>\n",
       "<style scoped>\n",
       "    .dataframe tbody tr th:only-of-type {\n",
       "        vertical-align: middle;\n",
       "    }\n",
       "\n",
       "    .dataframe tbody tr th {\n",
       "        vertical-align: top;\n",
       "    }\n",
       "\n",
       "    .dataframe thead th {\n",
       "        text-align: right;\n",
       "    }\n",
       "</style>\n",
       "<table border=\"1\" class=\"dataframe\">\n",
       "  <thead>\n",
       "    <tr style=\"text-align: right;\">\n",
       "      <th></th>\n",
       "      <th>subreddit</th>\n",
       "      <th>gw_counts</th>\n",
       "      <th>cc_counts</th>\n",
       "      <th>authors</th>\n",
       "      <th>total</th>\n",
       "      <th>gw_frac</th>\n",
       "      <th>cc_frac</th>\n",
       "      <th>aut_frac</th>\n",
       "    </tr>\n",
       "  </thead>\n",
       "  <tbody>\n",
       "    <tr>\n",
       "      <th>31</th>\n",
       "      <td>climatechange</td>\n",
       "      <td>383</td>\n",
       "      <td>1884</td>\n",
       "      <td>190</td>\n",
       "      <td>2267</td>\n",
       "      <td>0.168946</td>\n",
       "      <td>0.831054</td>\n",
       "      <td>0.083811</td>\n",
       "    </tr>\n",
       "    <tr>\n",
       "      <th>7</th>\n",
       "      <td>climate</td>\n",
       "      <td>2357</td>\n",
       "      <td>9978</td>\n",
       "      <td>469</td>\n",
       "      <td>12335</td>\n",
       "      <td>0.191082</td>\n",
       "      <td>0.808918</td>\n",
       "      <td>0.038022</td>\n",
       "    </tr>\n",
       "    <tr>\n",
       "      <th>27</th>\n",
       "      <td>collapse</td>\n",
       "      <td>512</td>\n",
       "      <td>1904</td>\n",
       "      <td>172</td>\n",
       "      <td>2416</td>\n",
       "      <td>0.211921</td>\n",
       "      <td>0.788079</td>\n",
       "      <td>0.071192</td>\n",
       "    </tr>\n",
       "    <tr>\n",
       "      <th>0</th>\n",
       "      <td>environment</td>\n",
       "      <td>6876</td>\n",
       "      <td>22549</td>\n",
       "      <td>2109</td>\n",
       "      <td>29425</td>\n",
       "      <td>0.233679</td>\n",
       "      <td>0.766321</td>\n",
       "      <td>0.071674</td>\n",
       "    </tr>\n",
       "    <tr>\n",
       "      <th>10</th>\n",
       "      <td>worldnews</td>\n",
       "      <td>2046</td>\n",
       "      <td>6026</td>\n",
       "      <td>960</td>\n",
       "      <td>8072</td>\n",
       "      <td>0.253469</td>\n",
       "      <td>0.746531</td>\n",
       "      <td>0.118930</td>\n",
       "    </tr>\n",
       "  </tbody>\n",
       "</table>\n",
       "</div>"
      ],
      "text/plain": [
       "        subreddit  gw_counts  cc_counts  authors  total   gw_frac   cc_frac  \\\n",
       "31  climatechange        383       1884      190   2267  0.168946  0.831054   \n",
       "7         climate       2357       9978      469  12335  0.191082  0.808918   \n",
       "27       collapse        512       1904      172   2416  0.211921  0.788079   \n",
       "0     environment       6876      22549     2109  29425  0.233679  0.766321   \n",
       "10      worldnews       2046       6026      960   8072  0.253469  0.746531   \n",
       "\n",
       "    aut_frac  \n",
       "31  0.083811  \n",
       "7   0.038022  \n",
       "27  0.071192  \n",
       "0   0.071674  \n",
       "10  0.118930  "
      ]
     },
     "execution_count": 9,
     "metadata": {},
     "output_type": "execute_result"
    }
   ],
   "source": [
    "keywords[(keywords[\"total\"] > 2000) & (keywords[\"aut_frac\"] > .01)].sort_values(\"cc_frac\", ascending = False).iloc[:5,]"
   ]
  },
  {
   "cell_type": "markdown",
   "metadata": {},
   "source": [
    "On the other hand, the communities that most use the term \"global warming\" are distinguished by either climate skepticism or an uninformed perspective. \"Climateskeptics\" and \"conspiracy\", as one might expect, are major hubs for climate skeptics and conspiracy theorists on Reddit, who may be more likely to view climate science as a politically motivated hoax. \"Askscience\" and \"explainlikeimfive\", on the other hand, are dominated by users seeking new information - I think it's likely that these communities are represented by users who have little knowledge of climate science and associated terminology.\n",
    "\n",
    "I am a bit baffled as to why the term \"global warming\" is well represented in \"showerthoughts\", a mostly humor-oriented community focused on the epiphanies we get while taking a shower. Perhaps \"global warming\" is a term that lends itself better to jokes."
   ]
  },
  {
   "cell_type": "code",
   "execution_count": 10,
   "metadata": {
    "scrolled": false
   },
   "outputs": [
    {
     "data": {
      "text/html": [
       "<div>\n",
       "<style scoped>\n",
       "    .dataframe tbody tr th:only-of-type {\n",
       "        vertical-align: middle;\n",
       "    }\n",
       "\n",
       "    .dataframe tbody tr th {\n",
       "        vertical-align: top;\n",
       "    }\n",
       "\n",
       "    .dataframe thead th {\n",
       "        text-align: right;\n",
       "    }\n",
       "</style>\n",
       "<table border=\"1\" class=\"dataframe\">\n",
       "  <thead>\n",
       "    <tr style=\"text-align: right;\">\n",
       "      <th></th>\n",
       "      <th>subreddit</th>\n",
       "      <th>gw_counts</th>\n",
       "      <th>cc_counts</th>\n",
       "      <th>authors</th>\n",
       "      <th>total</th>\n",
       "      <th>gw_frac</th>\n",
       "      <th>cc_frac</th>\n",
       "      <th>aut_frac</th>\n",
       "    </tr>\n",
       "  </thead>\n",
       "  <tbody>\n",
       "    <tr>\n",
       "      <th>11</th>\n",
       "      <td>Showerthoughts</td>\n",
       "      <td>1897</td>\n",
       "      <td>1644</td>\n",
       "      <td>1340</td>\n",
       "      <td>3541</td>\n",
       "      <td>0.535724</td>\n",
       "      <td>0.464276</td>\n",
       "      <td>0.378424</td>\n",
       "    </tr>\n",
       "    <tr>\n",
       "      <th>1</th>\n",
       "      <td>climateskeptics</td>\n",
       "      <td>4374</td>\n",
       "      <td>4626</td>\n",
       "      <td>526</td>\n",
       "      <td>9000</td>\n",
       "      <td>0.486000</td>\n",
       "      <td>0.514000</td>\n",
       "      <td>0.058444</td>\n",
       "    </tr>\n",
       "    <tr>\n",
       "      <th>15</th>\n",
       "      <td>conspiracy</td>\n",
       "      <td>1338</td>\n",
       "      <td>1462</td>\n",
       "      <td>512</td>\n",
       "      <td>2800</td>\n",
       "      <td>0.477857</td>\n",
       "      <td>0.522143</td>\n",
       "      <td>0.182857</td>\n",
       "    </tr>\n",
       "    <tr>\n",
       "      <th>5</th>\n",
       "      <td>askscience</td>\n",
       "      <td>2887</td>\n",
       "      <td>3190</td>\n",
       "      <td>1958</td>\n",
       "      <td>6077</td>\n",
       "      <td>0.475070</td>\n",
       "      <td>0.524930</td>\n",
       "      <td>0.322198</td>\n",
       "    </tr>\n",
       "    <tr>\n",
       "      <th>16</th>\n",
       "      <td>explainlikeimfive</td>\n",
       "      <td>1090</td>\n",
       "      <td>1226</td>\n",
       "      <td>785</td>\n",
       "      <td>2316</td>\n",
       "      <td>0.470639</td>\n",
       "      <td>0.529361</td>\n",
       "      <td>0.338946</td>\n",
       "    </tr>\n",
       "  </tbody>\n",
       "</table>\n",
       "</div>"
      ],
      "text/plain": [
       "            subreddit  gw_counts  cc_counts  authors  total   gw_frac  \\\n",
       "11     Showerthoughts       1897       1644     1340   3541  0.535724   \n",
       "1     climateskeptics       4374       4626      526   9000  0.486000   \n",
       "15         conspiracy       1338       1462      512   2800  0.477857   \n",
       "5          askscience       2887       3190     1958   6077  0.475070   \n",
       "16  explainlikeimfive       1090       1226      785   2316  0.470639   \n",
       "\n",
       "     cc_frac  aut_frac  \n",
       "11  0.464276  0.378424  \n",
       "1   0.514000  0.058444  \n",
       "15  0.522143  0.182857  \n",
       "5   0.524930  0.322198  \n",
       "16  0.529361  0.338946  "
      ]
     },
     "execution_count": 10,
     "metadata": {},
     "output_type": "execute_result"
    }
   ],
   "source": [
    "keywords[(keywords[\"total\"] > 2000) & (keywords[\"aut_frac\"] > .01)].sort_values(\"gw_frac\", ascending = False).iloc[:5,]"
   ]
  },
  {
   "cell_type": "markdown",
   "metadata": {},
   "source": [
    "## Where do these posts come from?\n",
    "\n",
    "Furthermore, we can find some interesting trends in where users are finding content for their posts. If we remove posts that are based on user-submitted text or images (\"self.subreddit\", \"imgur.com\", and \"reddit.com\"), we see that popular links include content on \"youtube\" and major news publications on both sides of the political spectrum. Perhaps the most significant is \"wattsupwiththat.com\", a climate skepticism website that I wasn't aware of prior to this project."
   ]
  },
  {
   "cell_type": "code",
   "execution_count": 11,
   "metadata": {},
   "outputs": [
    {
     "data": {
      "text/html": [
       "<div>\n",
       "<style scoped>\n",
       "    .dataframe tbody tr th:only-of-type {\n",
       "        vertical-align: middle;\n",
       "    }\n",
       "\n",
       "    .dataframe tbody tr th {\n",
       "        vertical-align: top;\n",
       "    }\n",
       "\n",
       "    .dataframe thead th {\n",
       "        text-align: right;\n",
       "    }\n",
       "</style>\n",
       "<table border=\"1\" class=\"dataframe\">\n",
       "  <thead>\n",
       "    <tr style=\"text-align: right;\">\n",
       "      <th></th>\n",
       "      <th>domain</th>\n",
       "      <th>COUNT(domain)</th>\n",
       "    </tr>\n",
       "  </thead>\n",
       "  <tbody>\n",
       "    <tr>\n",
       "      <th>0</th>\n",
       "      <td>youtube.com</td>\n",
       "      <td>2980</td>\n",
       "    </tr>\n",
       "    <tr>\n",
       "      <th>4</th>\n",
       "      <td>theguardian.com</td>\n",
       "      <td>1910</td>\n",
       "    </tr>\n",
       "    <tr>\n",
       "      <th>10</th>\n",
       "      <td>dailycaller.com</td>\n",
       "      <td>1053</td>\n",
       "    </tr>\n",
       "    <tr>\n",
       "      <th>11</th>\n",
       "      <td>nytimes.com</td>\n",
       "      <td>1024</td>\n",
       "    </tr>\n",
       "    <tr>\n",
       "      <th>12</th>\n",
       "      <td>washingtonpost.com</td>\n",
       "      <td>939</td>\n",
       "    </tr>\n",
       "    <tr>\n",
       "      <th>13</th>\n",
       "      <td>independent.co.uk</td>\n",
       "      <td>905</td>\n",
       "    </tr>\n",
       "    <tr>\n",
       "      <th>15</th>\n",
       "      <td>wattsupwiththat.com</td>\n",
       "      <td>830</td>\n",
       "    </tr>\n",
       "    <tr>\n",
       "      <th>16</th>\n",
       "      <td>dailymail.co.uk</td>\n",
       "      <td>725</td>\n",
       "    </tr>\n",
       "    <tr>\n",
       "      <th>17</th>\n",
       "      <td>thinkprogress.org</td>\n",
       "      <td>664</td>\n",
       "    </tr>\n",
       "    <tr>\n",
       "      <th>18</th>\n",
       "      <td>scientificamerican.com</td>\n",
       "      <td>648</td>\n",
       "    </tr>\n",
       "  </tbody>\n",
       "</table>\n",
       "</div>"
      ],
      "text/plain": [
       "                    domain  COUNT(domain)\n",
       "0              youtube.com           2980\n",
       "4          theguardian.com           1910\n",
       "10         dailycaller.com           1053\n",
       "11             nytimes.com           1024\n",
       "12      washingtonpost.com            939\n",
       "13       independent.co.uk            905\n",
       "15     wattsupwiththat.com            830\n",
       "16         dailymail.co.uk            725\n",
       "17       thinkprogress.org            664\n",
       "18  scientificamerican.com            648"
      ]
     },
     "execution_count": 11,
     "metadata": {},
     "output_type": "execute_result"
    }
   ],
   "source": [
    "domaincounts = pd.read_sql(\"\"\"SELECT domain, COUNT(domain) \n",
    "FROM gwtable\n",
    "GROUP BY domain\n",
    "ORDER BY COUNT(domain) DESC\n",
    "\"\"\",\n",
    "               con = engine)\n",
    "\n",
    "news = domaincounts[~(domaincounts[\"domain\"].str.contains(\"self.\")) &\n",
    "             ~(domaincounts[\"domain\"] == \"reddit.com\") & \n",
    "             ~(domaincounts[\"domain\"] == \"imgur.com\") & \n",
    "             ~(domaincounts[\"domain\"] == \"i.imgur.com\") & \n",
    "             ~(domaincounts[\"domain\"] == \"i.redd.it\")]\n",
    "\n",
    "news.head(10)"
   ]
  },
  {
   "cell_type": "markdown",
   "metadata": {},
   "source": [
    "# Term Frequencies and Document Classification\n",
    "\n",
    "To better understand patterns of language associated with the keywords \"climate change\" and \"global warming\", I set out to analyze term frequencies within these submissions and produce a binary classifier that would be able to distinguish which keyword is most likely to be used based on other language found in a submission title."
   ]
  },
  {
   "cell_type": "markdown",
   "metadata": {},
   "source": [
    "## Subsetting this original corpus:\n",
    "\n",
    "This large, unedited corpus contains a bunch of relevant information, but may benefit from some subsetting prior to natural language processing. \n",
    "\n",
    "Some potential issues:\n",
    "\n",
    "\n",
    "__1. Text length:__ When computing frequency-based metrics (such as tf-idf) and document similarity, large differences in text length can be problematic.\n",
    "\n",
    "__2. Repeat entries:__ Reddit supports cross-posting, a method that allows users to select submissions from one forum and link them to another. For purposes of classification, duplicate entries can present issues, effectively increasing the weight of a certain text entry.\n",
    "\n",
    "__3. User dominance:__ As previously noted, some power users may exert strong influence on any observed patterns, if there are particular writing styles or word associations that are representative of a certain news source, for example, rather than a pattern of interest."
   ]
  },
  {
   "cell_type": "code",
   "execution_count": 12,
   "metadata": {
    "scrolled": true
   },
   "outputs": [
    {
     "name": "stdout",
     "output_type": "stream",
     "text": [
      "(298000, 6)\n"
     ]
    },
    {
     "data": {
      "text/html": [
       "<div>\n",
       "<style scoped>\n",
       "    .dataframe tbody tr th:only-of-type {\n",
       "        vertical-align: middle;\n",
       "    }\n",
       "\n",
       "    .dataframe tbody tr th {\n",
       "        vertical-align: top;\n",
       "    }\n",
       "\n",
       "    .dataframe thead th {\n",
       "        text-align: right;\n",
       "    }\n",
       "</style>\n",
       "<table border=\"1\" class=\"dataframe\">\n",
       "  <thead>\n",
       "    <tr style=\"text-align: right;\">\n",
       "      <th></th>\n",
       "      <th>index</th>\n",
       "      <th>subreddit</th>\n",
       "      <th>domain</th>\n",
       "      <th>title</th>\n",
       "      <th>url</th>\n",
       "      <th>keyword</th>\n",
       "    </tr>\n",
       "  </thead>\n",
       "  <tbody>\n",
       "    <tr>\n",
       "      <th>0</th>\n",
       "      <td>0</td>\n",
       "      <td>reddit.com</td>\n",
       "      <td>ocregister.com</td>\n",
       "      <td>Editorial: Global warming 'consensus' a fiction</td>\n",
       "      <td>http://www.ocregister.com/opinion/global-gore-...</td>\n",
       "      <td>global warming</td>\n",
       "    </tr>\n",
       "    <tr>\n",
       "      <th>1</th>\n",
       "      <td>1</td>\n",
       "      <td>reddit.com</td>\n",
       "      <td>thedailybanter.com</td>\n",
       "      <td>Global Warming denial industry still going strong</td>\n",
       "      <td>http://www.thedailybanter.com/tdb/2008/01/glob...</td>\n",
       "      <td>global warming</td>\n",
       "    </tr>\n",
       "    <tr>\n",
       "      <th>2</th>\n",
       "      <td>2</td>\n",
       "      <td>science</td>\n",
       "      <td>sciencedaily.com</td>\n",
       "      <td>Declining Water Levels In The Great Lakes May ...</td>\n",
       "      <td>http://www.sciencedaily.com/releases/2007/12/0...</td>\n",
       "      <td>global warming</td>\n",
       "    </tr>\n",
       "    <tr>\n",
       "      <th>3</th>\n",
       "      <td>3</td>\n",
       "      <td>reddit.com</td>\n",
       "      <td>ap.google.com</td>\n",
       "      <td>The chaotic effects of global warming? Record ...</td>\n",
       "      <td>http://ap.google.com/article/ALeqM5jv320qXrVAV...</td>\n",
       "      <td>global warming</td>\n",
       "    </tr>\n",
       "    <tr>\n",
       "      <th>4</th>\n",
       "      <td>4</td>\n",
       "      <td>reddit.com</td>\n",
       "      <td>fastcompany.com</td>\n",
       "      <td>Reverend Cizik: Tries to convince 30 Million E...</td>\n",
       "      <td>http://www.fastcompany.com/magazine/106/moving...</td>\n",
       "      <td>global warming</td>\n",
       "    </tr>\n",
       "  </tbody>\n",
       "</table>\n",
       "</div>"
      ],
      "text/plain": [
       "   index   subreddit              domain  \\\n",
       "0      0  reddit.com      ocregister.com   \n",
       "1      1  reddit.com  thedailybanter.com   \n",
       "2      2     science    sciencedaily.com   \n",
       "3      3  reddit.com       ap.google.com   \n",
       "4      4  reddit.com     fastcompany.com   \n",
       "\n",
       "                                               title  \\\n",
       "0    Editorial: Global warming 'consensus' a fiction   \n",
       "1  Global Warming denial industry still going strong   \n",
       "2  Declining Water Levels In The Great Lakes May ...   \n",
       "3  The chaotic effects of global warming? Record ...   \n",
       "4  Reverend Cizik: Tries to convince 30 Million E...   \n",
       "\n",
       "                                                 url         keyword  \n",
       "0  http://www.ocregister.com/opinion/global-gore-...  global warming  \n",
       "1  http://www.thedailybanter.com/tdb/2008/01/glob...  global warming  \n",
       "2  http://www.sciencedaily.com/releases/2007/12/0...  global warming  \n",
       "3  http://ap.google.com/article/ALeqM5jv320qXrVAV...  global warming  \n",
       "4  http://www.fastcompany.com/magazine/106/moving...  global warming  "
      ]
     },
     "execution_count": 12,
     "metadata": {},
     "output_type": "execute_result"
    }
   ],
   "source": [
    "gwtitles = pd.read_sql(\"\"\"SELECT subreddit, domain, title, url, keyword\n",
    "FROM gwtable\n",
    "\"\"\",\n",
    "               con = engine)\n",
    "\n",
    "cctitles = pd.read_sql(\"\"\"SELECT subreddit, domain, title, url, keyword\n",
    "FROM cctable\n",
    "\"\"\",\n",
    "               con = engine)\n",
    "\n",
    "corpus = pd.concat([gwtitles, cctitles])\n",
    "corpus.reset_index(inplace = True)\n",
    "print(corpus.shape)\n",
    "corpus.head()"
   ]
  },
  {
   "cell_type": "markdown",
   "metadata": {},
   "source": [
    "I first began by subsetting this corpus to only those entries that are represented by communities that were not previously identified as being too dominated by a small group of users (unique author fraction > .01). Then, I removed all duplicated title entries and calculated their total word lengths."
   ]
  },
  {
   "cell_type": "code",
   "execution_count": 13,
   "metadata": {
    "scrolled": false
   },
   "outputs": [
    {
     "name": "stderr",
     "output_type": "stream",
     "text": [
      "C:\\Users\\ebatz\\Anaconda3\\lib\\site-packages\\ipykernel_launcher.py:18: SettingWithCopyWarning:\n",
      "\n",
      "\n",
      "A value is trying to be set on a copy of a slice from a DataFrame\n",
      "\n",
      "See the caveats in the documentation: http://pandas.pydata.org/pandas-docs/stable/indexing.html#indexing-view-versus-copy\n",
      "\n",
      "C:\\Users\\ebatz\\Anaconda3\\lib\\site-packages\\ipykernel_launcher.py:26: SettingWithCopyWarning:\n",
      "\n",
      "\n",
      "A value is trying to be set on a copy of a slice from a DataFrame.\n",
      "Try using .loc[row_indexer,col_indexer] = value instead\n",
      "\n",
      "See the caveats in the documentation: http://pandas.pydata.org/pandas-docs/stable/indexing.html#indexing-view-versus-copy\n",
      "\n"
     ]
    },
    {
     "data": {
      "text/plain": [
       "array([[<matplotlib.axes._subplots.AxesSubplot object at 0x00000245E055DA20>]],\n",
       "      dtype=object)"
      ]
     },
     "execution_count": 13,
     "metadata": {},
     "output_type": "execute_result"
    },
    {
     "data": {
      "image/png": "[encoded data removed]",
      "text/plain": [
       "<matplotlib.figure.Figure at 0x245e0554128>"
      ]
     },
     "metadata": {},
     "output_type": "display_data"
    }
   ],
   "source": [
    "import re\n",
    "from textblob import TextBlob\n",
    "import nltk\n",
    "from nltk.corpus import stopwords\n",
    "from nltk.stem.porter import PorterStemmer\n",
    "from nltk.corpus import wordnet\n",
    "from sklearn.feature_extraction.text import TfidfVectorizer\n",
    "from sklearn.naive_bayes import BernoulliNB\n",
    "from sklearn.model_selection import KFold\n",
    "from sklearn.model_selection import train_test_split\n",
    "from sklearn import metrics\n",
    "\n",
    "# Finding those forums with a very small number of submitters:\n",
    "to_exclude = keywords[\"subreddit\"][keywords[\"aut_frac\"] <= .01]\n",
    "corpus_edited = corpus[~corpus.subreddit.isin(to_exclude)]\n",
    "\n",
    "# Dropping all duplicates:\n",
    "corpus_edited.drop_duplicates(\"title\", inplace = True)\n",
    "\n",
    "# Calculating text lengths:\n",
    "def CountWords(x):\n",
    "    \"\"\"Counts TextBlob words for strings\"\"\"\n",
    "    wordcount = len(TextBlob(str(x)).words)\n",
    "    return(wordcount)\n",
    "\n",
    "corpus_edited[\"wcount\"] = [CountWords(x) for x in corpus_edited[\"title\"]]\n",
    "corpus_edited.hist(\"wcount\", bins = 60)"
   ]
  },
  {
   "cell_type": "markdown",
   "metadata": {},
   "source": [
    "Because word counts showed a heavily right-skewed distribution, I thought it'd be best to focus on a group of submissions that contained roughly equivalent lengths. I'm not entirely sure what the best protocol would be for this subsampling, but I chose to focus on the group of submissions with lengths between the interval of 15 and 20 words. Longer sentences seemed likely to be better for this analysis, and an overly large sample size could slow down model fitting.\n",
    "\n",
    "Limiting this corpus to those entries yielded a dataset of roughly 30,000 submissions, which I reduced to 20,000 total (10,000 samples each containing the keywords \"global warming\" and \"climate change\", respectively)."
   ]
  },
  {
   "cell_type": "code",
   "execution_count": 14,
   "metadata": {
    "scrolled": true
   },
   "outputs": [
    {
     "data": {
      "text/html": [
       "<div>\n",
       "<style scoped>\n",
       "    .dataframe tbody tr th:only-of-type {\n",
       "        vertical-align: middle;\n",
       "    }\n",
       "\n",
       "    .dataframe tbody tr th {\n",
       "        vertical-align: top;\n",
       "    }\n",
       "\n",
       "    .dataframe thead tr th {\n",
       "        text-align: left;\n",
       "    }\n",
       "\n",
       "    .dataframe thead tr:last-of-type th {\n",
       "        text-align: right;\n",
       "    }\n",
       "</style>\n",
       "<table border=\"1\" class=\"dataframe\">\n",
       "  <thead>\n",
       "    <tr>\n",
       "      <th></th>\n",
       "      <th>index</th>\n",
       "    </tr>\n",
       "    <tr>\n",
       "      <th></th>\n",
       "      <th>count</th>\n",
       "    </tr>\n",
       "    <tr>\n",
       "      <th>keyword</th>\n",
       "      <th></th>\n",
       "    </tr>\n",
       "  </thead>\n",
       "  <tbody>\n",
       "    <tr>\n",
       "      <th>climate change</th>\n",
       "      <td>18298</td>\n",
       "    </tr>\n",
       "    <tr>\n",
       "      <th>global warming</th>\n",
       "      <td>10294</td>\n",
       "    </tr>\n",
       "  </tbody>\n",
       "</table>\n",
       "</div>"
      ],
      "text/plain": [
       "                index\n",
       "                count\n",
       "keyword              \n",
       "climate change  18298\n",
       "global warming  10294"
      ]
     },
     "execution_count": 14,
     "metadata": {},
     "output_type": "execute_result"
    }
   ],
   "source": [
    "# Adding bounds for word length:\n",
    "corpus_edited = corpus_edited[(corpus_edited[\"wcount\"] >= 15) & (corpus_edited[\"wcount\"] <= 20)]\n",
    "\n",
    "# Counting the number of entries for each group\n",
    "corpus_edited[[\"index\", \"keyword\"]].groupby(\"keyword\").agg(['count'])"
   ]
  },
  {
   "cell_type": "code",
   "execution_count": 15,
   "metadata": {
    "collapsed": true
   },
   "outputs": [],
   "source": [
    "# Randomly sampling entries\n",
    "import random\n",
    "corpus_edited.reset_index(inplace = True)\n",
    "ccindex = random.sample(list(corpus_edited.index.values[corpus_edited[\"keyword\"] == \"climate change\"]), 10000)\n",
    "gwindex = random.sample(list(corpus_edited.index.values[corpus_edited[\"keyword\"] == \"global warming\"]), 10000)\n",
    "\n",
    "# Indices to keep:\n",
    "to_keep = ccindex + gwindex\n",
    "corpus_edited = corpus_edited.iloc[to_keep]\n",
    "\n",
    "# Randomizes row position:\n",
    "corpus_edited = corpus_edited.sample(frac=1)"
   ]
  },
  {
   "cell_type": "markdown",
   "metadata": {},
   "source": [
    "## Text Processing\n",
    "\n",
    "Then, using modified functions from lecture notes and homework 6, I cleaned submission titles to remove stopwords, lemmatize text, and strip out the terms \"global warming\" and \"climate change\". Because these terms are already present as a distinction between text in the dataset (by virtue of how the dataset was assembled) they may skew term frequency analysis. Predicting what terms will be used also forms the basis of a subsequent classification problem. "
   ]
  },
  {
   "cell_type": "code",
   "execution_count": 16,
   "metadata": {
    "collapsed": true
   },
   "outputs": [],
   "source": [
    "tokenize = nltk.word_tokenize\n",
    "\n",
    "def stem(tokens, stemmer = PorterStemmer().stem):\n",
    "    return [stemmer(w.lower()) for w in tokens] \n",
    "\n",
    "def lemmatize(text):\n",
    "    \"\"\"\n",
    "    Extract simple lemmas based on tokenization and stemming\n",
    "    Input: \n",
    "        text(chr): A string of text\n",
    "    Output: \n",
    "        lemma(list): A list of strings (lemmata)\n",
    "    \"\"\"\n",
    "    return stem(tokenize(text))\n",
    "\n",
    "stopwords = stopwords.words(\"english\")\n",
    "\n",
    "def wordnet_pos(tag):\n",
    "    \"\"\"Map a Brown POS tag to a WordNet POS tag.\n",
    "    \n",
    "    Input:\n",
    "        tag(chr): Brown POS tag\n",
    "        \n",
    "    Output:\n",
    "        tag(chr): WordNet POS tag\n",
    "    \n",
    "    \"\"\"\n",
    "    \n",
    "    table = {\"N\": wordnet.NOUN, \"V\": wordnet.VERB, \"R\": wordnet.ADV, \"J\": wordnet.ADJ}\n",
    "    \n",
    "    # Default to a noun.\n",
    "    return table.get(tag[0], wordnet.NOUN)\n",
    "\n",
    "def cleanBlob(blob):\n",
    "    \"\"\"Cleans text blobs to only contain relevant words and characters\n",
    "    \n",
    "    Input:\n",
    "        blob(TextBlob): A raw text blob\n",
    "        \n",
    "    Output:\n",
    "        newblob(TextBlob): A cleaned text blob\n",
    "    \"\"\"\n",
    "    \n",
    "    # Removes stopwords\n",
    "    new_text = \" \".join(w for w in blob.words if w.lower() not in stopwords)\n",
    "\n",
    "    # Removes any characters that aren't alphabetical or whitespace\n",
    "    new_text = re.sub(r\"[^A-Za-z\\s\\t\\n\\'\\.]+\", '', new_text.lower())\n",
    "    \n",
    "    # Removes the occurance of \"global warming\" or \"climate change\"\n",
    "    new_text = re.sub(\"climate change\", '', new_text)\n",
    "    new_text = re.sub(\"global warming\", '', new_text)\n",
    "    \n",
    "    # Reassigns textblob with cleaned text\n",
    "    new_text = re.sub(\"  +\", ' ', new_text)\n",
    "    newblob = TextBlob(new_text)\n",
    "    \n",
    "    # Converts tags to lemmatize correctly\n",
    "    tags = [wordnet_pos(x[1]) for x in newblob.pos_tags]\n",
    "    \n",
    "    # Lemmatizes words in the textblob\n",
    "    newblob = \" \".join(x.lemmatize(t) for x, t in zip(newblob.words, tags))\n",
    "    newblob = TextBlob(newblob)\n",
    "    \n",
    "    # Returns cleaned blob\n",
    "    return(newblob)"
   ]
  },
  {
   "cell_type": "markdown",
   "metadata": {},
   "source": [
    "## Fitting TF-IDF and Term Frequency Analysis"
   ]
  },
  {
   "cell_type": "code",
   "execution_count": 17,
   "metadata": {
    "scrolled": true
   },
   "outputs": [
    {
     "data": {
      "text/html": [
       "<div>\n",
       "<style scoped>\n",
       "    .dataframe tbody tr th:only-of-type {\n",
       "        vertical-align: middle;\n",
       "    }\n",
       "\n",
       "    .dataframe tbody tr th {\n",
       "        vertical-align: top;\n",
       "    }\n",
       "\n",
       "    .dataframe thead th {\n",
       "        text-align: right;\n",
       "    }\n",
       "</style>\n",
       "<table border=\"1\" class=\"dataframe\">\n",
       "  <thead>\n",
       "    <tr style=\"text-align: right;\">\n",
       "      <th></th>\n",
       "      <th>aaa</th>\n",
       "      <th>aaaaaaaaaaaaahhhh</th>\n",
       "      <th>aaas</th>\n",
       "      <th>aagenda</th>\n",
       "      <th>aang</th>\n",
       "      <th>aapl</th>\n",
       "      <th>aaps</th>\n",
       "      <th>aaron</th>\n",
       "      <th>ab</th>\n",
       "      <th>abandon</th>\n",
       "      <th>...</th>\n",
       "      <th>zit</th>\n",
       "      <th>zmometer</th>\n",
       "      <th>zofeen</th>\n",
       "      <th>zombie</th>\n",
       "      <th>zone</th>\n",
       "      <th>zoo</th>\n",
       "      <th>zoos</th>\n",
       "      <th>zuckerberg</th>\n",
       "      <th>zuesse</th>\n",
       "      <th>zujcbd</th>\n",
       "    </tr>\n",
       "  </thead>\n",
       "  <tbody>\n",
       "    <tr>\n",
       "      <th>0</th>\n",
       "      <td>0.0</td>\n",
       "      <td>0.0</td>\n",
       "      <td>0.0</td>\n",
       "      <td>0.0</td>\n",
       "      <td>0.0</td>\n",
       "      <td>0.0</td>\n",
       "      <td>0.0</td>\n",
       "      <td>0.0</td>\n",
       "      <td>0.0</td>\n",
       "      <td>0.0</td>\n",
       "      <td>...</td>\n",
       "      <td>0.0</td>\n",
       "      <td>0.0</td>\n",
       "      <td>0.0</td>\n",
       "      <td>0.0</td>\n",
       "      <td>0.0</td>\n",
       "      <td>0.0</td>\n",
       "      <td>0.0</td>\n",
       "      <td>0.0</td>\n",
       "      <td>0.0</td>\n",
       "      <td>0.0</td>\n",
       "    </tr>\n",
       "    <tr>\n",
       "      <th>1</th>\n",
       "      <td>0.0</td>\n",
       "      <td>0.0</td>\n",
       "      <td>0.0</td>\n",
       "      <td>0.0</td>\n",
       "      <td>0.0</td>\n",
       "      <td>0.0</td>\n",
       "      <td>0.0</td>\n",
       "      <td>0.0</td>\n",
       "      <td>0.0</td>\n",
       "      <td>0.0</td>\n",
       "      <td>...</td>\n",
       "      <td>0.0</td>\n",
       "      <td>0.0</td>\n",
       "      <td>0.0</td>\n",
       "      <td>0.0</td>\n",
       "      <td>0.0</td>\n",
       "      <td>0.0</td>\n",
       "      <td>0.0</td>\n",
       "      <td>0.0</td>\n",
       "      <td>0.0</td>\n",
       "      <td>0.0</td>\n",
       "    </tr>\n",
       "    <tr>\n",
       "      <th>2</th>\n",
       "      <td>0.0</td>\n",
       "      <td>0.0</td>\n",
       "      <td>0.0</td>\n",
       "      <td>0.0</td>\n",
       "      <td>0.0</td>\n",
       "      <td>0.0</td>\n",
       "      <td>0.0</td>\n",
       "      <td>0.0</td>\n",
       "      <td>0.0</td>\n",
       "      <td>0.0</td>\n",
       "      <td>...</td>\n",
       "      <td>0.0</td>\n",
       "      <td>0.0</td>\n",
       "      <td>0.0</td>\n",
       "      <td>0.0</td>\n",
       "      <td>0.0</td>\n",
       "      <td>0.0</td>\n",
       "      <td>0.0</td>\n",
       "      <td>0.0</td>\n",
       "      <td>0.0</td>\n",
       "      <td>0.0</td>\n",
       "    </tr>\n",
       "    <tr>\n",
       "      <th>3</th>\n",
       "      <td>0.0</td>\n",
       "      <td>0.0</td>\n",
       "      <td>0.0</td>\n",
       "      <td>0.0</td>\n",
       "      <td>0.0</td>\n",
       "      <td>0.0</td>\n",
       "      <td>0.0</td>\n",
       "      <td>0.0</td>\n",
       "      <td>0.0</td>\n",
       "      <td>0.0</td>\n",
       "      <td>...</td>\n",
       "      <td>0.0</td>\n",
       "      <td>0.0</td>\n",
       "      <td>0.0</td>\n",
       "      <td>0.0</td>\n",
       "      <td>0.0</td>\n",
       "      <td>0.0</td>\n",
       "      <td>0.0</td>\n",
       "      <td>0.0</td>\n",
       "      <td>0.0</td>\n",
       "      <td>0.0</td>\n",
       "    </tr>\n",
       "    <tr>\n",
       "      <th>4</th>\n",
       "      <td>0.0</td>\n",
       "      <td>0.0</td>\n",
       "      <td>0.0</td>\n",
       "      <td>0.0</td>\n",
       "      <td>0.0</td>\n",
       "      <td>0.0</td>\n",
       "      <td>0.0</td>\n",
       "      <td>0.0</td>\n",
       "      <td>0.0</td>\n",
       "      <td>0.0</td>\n",
       "      <td>...</td>\n",
       "      <td>0.0</td>\n",
       "      <td>0.0</td>\n",
       "      <td>0.0</td>\n",
       "      <td>0.0</td>\n",
       "      <td>0.0</td>\n",
       "      <td>0.0</td>\n",
       "      <td>0.0</td>\n",
       "      <td>0.0</td>\n",
       "      <td>0.0</td>\n",
       "      <td>0.0</td>\n",
       "    </tr>\n",
       "  </tbody>\n",
       "</table>\n",
       "<p>5 rows × 16075 columns</p>\n",
       "</div>"
      ],
      "text/plain": [
       "   aaa  aaaaaaaaaaaaahhhh  aaas  aagenda  aang  aapl  aaps  aaron   ab  \\\n",
       "0  0.0                0.0   0.0      0.0   0.0   0.0   0.0    0.0  0.0   \n",
       "1  0.0                0.0   0.0      0.0   0.0   0.0   0.0    0.0  0.0   \n",
       "2  0.0                0.0   0.0      0.0   0.0   0.0   0.0    0.0  0.0   \n",
       "3  0.0                0.0   0.0      0.0   0.0   0.0   0.0    0.0  0.0   \n",
       "4  0.0                0.0   0.0      0.0   0.0   0.0   0.0    0.0  0.0   \n",
       "\n",
       "   abandon   ...    zit  zmometer  zofeen  zombie  zone  zoo  zoos  \\\n",
       "0      0.0   ...    0.0       0.0     0.0     0.0   0.0  0.0   0.0   \n",
       "1      0.0   ...    0.0       0.0     0.0     0.0   0.0  0.0   0.0   \n",
       "2      0.0   ...    0.0       0.0     0.0     0.0   0.0  0.0   0.0   \n",
       "3      0.0   ...    0.0       0.0     0.0     0.0   0.0  0.0   0.0   \n",
       "4      0.0   ...    0.0       0.0     0.0     0.0   0.0  0.0   0.0   \n",
       "\n",
       "   zuckerberg  zuesse  zujcbd  \n",
       "0         0.0     0.0     0.0  \n",
       "1         0.0     0.0     0.0  \n",
       "2         0.0     0.0     0.0  \n",
       "3         0.0     0.0     0.0  \n",
       "4         0.0     0.0     0.0  \n",
       "\n",
       "[5 rows x 16075 columns]"
      ]
     },
     "execution_count": 17,
     "metadata": {},
     "output_type": "execute_result"
    }
   ],
   "source": [
    "blobs = [TextBlob(x) for x in corpus_edited[\"title\"]]\n",
    "cleanblobs = [cleanBlob(x) for x in blobs]\n",
    "corpus_edited[\"class_text\"] = [str(x) for x in cleanblobs]\n",
    "text = np.array(corpus_edited[\"class_text\"].tolist())\n",
    "\n",
    "def fit_tfidf(docs):\n",
    "    \n",
    "    \"\"\"Fit Tf-IDF function\n",
    "    \n",
    "    Input:\n",
    "        docs(str): A list of strings to assemble TF-IDF matrix\n",
    "    \n",
    "    Output:\n",
    "        mat(tfidf): A TF-IDF object\n",
    "        cols(str): String of feature names for TF-IDF object\n",
    "    \"\"\"\n",
    "    \n",
    "    # Fits IDF\n",
    "    tfit = TfidfVectorizer(smooth_idf=True, analyzer=\"word\").fit(docs)\n",
    "    \n",
    "    # Returns Matrix and Feature names\n",
    "    mat, cols = tfit, tfit.get_feature_names()\n",
    "    return(mat, cols)\n",
    "\n",
    "tfit, cols = fit_tfidf(text)\n",
    "all_tf = pd.DataFrame(tfit.transform(text).A)\n",
    "all_tf.columns = cols\n",
    "all_tf.head()"
   ]
  },
  {
   "cell_type": "markdown",
   "metadata": {},
   "source": [
    "### What terms are associated with submissions containing different keywords?"
   ]
  },
  {
   "cell_type": "markdown",
   "metadata": {},
   "source": [
    "Term frequency analysis can give some qualitative insights into word associations between different terms. Here, figures show the terms that have the largest absolute difference in frequency between submissions containing the term \"global warming\" and those containing the term \"climate change\"."
   ]
  },
  {
   "cell_type": "code",
   "execution_count": 18,
   "metadata": {
    "collapsed": true
   },
   "outputs": [],
   "source": [
    "keyword_tf = all_tf.groupby(corpus_edited[\"keyword\"]).agg(\"mean\").transpose()\n",
    "keyword_tf[\"diff\"] = keyword_tf[\"climate change\"] - keyword_tf[\"global warming\"]"
   ]
  },
  {
   "cell_type": "markdown",
   "metadata": {},
   "source": [
    "Among the terms that appear to be more commonly associated with the keyword \"climate change\" are \"trump\", \"manmade\", \"increase\", \"global\", \"epa\". Without any sort of quantitative analysis, these suggest that there are patterns of term use that correspond with what I would consider to be the common viewpoint associated with a more science-informed perspective. If pressed, I would assume that many of these submissons are focused on the political responses to global climate change."
   ]
  },
  {
   "cell_type": "code",
   "execution_count": 19,
   "metadata": {},
   "outputs": [
    {
     "data": {
      "text/plain": [
       "<matplotlib.axes._subplots.AxesSubplot at 0x245f35bdf98>"
      ]
     },
     "execution_count": 19,
     "metadata": {},
     "output_type": "execute_result"
    },
    {
     "data": {
      "image/png": "[encoded data removed]",
      "text/plain": [
       "<matplotlib.figure.Figure at 0x245e008f198>"
      ]
     },
     "metadata": {},
     "output_type": "display_data"
    }
   ],
   "source": [
    "keyword_tf.sort_values(\"diff\", ascending=False).iloc[:20, :2].plot(kind = \"bar\", figsize = [10,10])"
   ]
  },
  {
   "cell_type": "markdown",
   "metadata": {},
   "source": [
    "In converse, the terms that appear more commonly associated with the keyword \"global warming\" are \"cold\", \"attack\", \"weather\", \"hoax\", and \"bad\", along similar terms to the subjects discussed above, like \"bill\". I think it's likely that this term is used when the subject of a submission is focused on drawing attention to climate skepticism. However, it's important to note that many of these terms have substantial overlap with one another, and may resist easy generalization."
   ]
  },
  {
   "cell_type": "code",
   "execution_count": 20,
   "metadata": {},
   "outputs": [
    {
     "data": {
      "text/plain": [
       "<matplotlib.axes._subplots.AxesSubplot at 0x245f35e2320>"
      ]
     },
     "execution_count": 20,
     "metadata": {},
     "output_type": "execute_result"
    },
    {
     "data": {
      "image/png": "[encoded data removed]",
      "text/plain": [
       "<matplotlib.figure.Figure at 0x245f35c2e10>"
      ]
     },
     "metadata": {},
     "output_type": "display_data"
    }
   ],
   "source": [
    "keyword_tf.sort_values(\"diff\", ascending=True).iloc[:20, :2].plot(kind = \"bar\", figsize = [10,10])"
   ]
  },
  {
   "cell_type": "markdown",
   "metadata": {
    "collapsed": true
   },
   "source": [
    "## Naive Bayes Classification"
   ]
  },
  {
   "cell_type": "markdown",
   "metadata": {},
   "source": [
    "To better understand how keyword use is correlated with language, I constructed a simple Naive Bayes classifier designed to predict what keyword label a submission would use, after having this labelled removed from the string.\n",
    "\n",
    "To do so, I opted for SciKit-Learn's BernoulliNB function, which produces a Naive Bayes classifier for a [1,0] response. To tune this model, I used 10-fold cross validation to assess changes in model accuracy depending on the \"alpha\" smoothing parameter in the model."
   ]
  },
  {
   "cell_type": "code",
   "execution_count": 21,
   "metadata": {
    "scrolled": false
   },
   "outputs": [
    {
     "name": "stderr",
     "output_type": "stream",
     "text": [
      "C:\\Users\\ebatz\\Anaconda3\\lib\\site-packages\\sklearn\\naive_bayes.py:472: UserWarning:\n",
      "\n",
      "alpha too small will result in numeric errors, setting alpha = 1.0e-10\n",
      "\n"
     ]
    }
   ],
   "source": [
    "#K-fold cross-validation setup\n",
    "kf = KFold(n_splits=10, shuffle=True, random_state=0) # Creates a K-fold function with 10 splits\n",
    "target = np.array(corpus_edited[\"keyword\"].tolist()) # Generates target label vector\n",
    "kf.get_n_splits(text) # Generates random splits\n",
    "kf.split(text) # Applies to text\n",
    "\n",
    "# Running accuracy tests over a range of alpha parameter value (0-1)\n",
    "mod_accuracy = []\n",
    "mod_alpha = []\n",
    "alphas = np.linspace(0, 2, 20)\n",
    "\n",
    "for alpha_val in alphas:\n",
    "    \n",
    "    for train_index, test_index in kf.split(text):\n",
    "\n",
    "        # Subsetting arrays into test/training sets for each fold:\n",
    "        X_train, X_test = text[train_index], text[test_index]\n",
    "        y_train, y_test = target[train_index], target[test_index]\n",
    "        tfit, cols = fit_tfidf(X_train)\n",
    "        \n",
    "        # Trains classifier on training data\n",
    "        clf = BernoulliNB(alpha=alpha_val).fit(tfit.transform(X_train), y_train)\n",
    "        \n",
    "        # Constructs new IDF of test data, \n",
    "        X_new_tfidf = tfit.transform(X_test)\n",
    "\n",
    "        predicted = clf.score(X_new_tfidf,  y_test)\n",
    "        mod_alpha.append(alpha_val)\n",
    "        mod_accuracy.append(predicted)"
   ]
  },
  {
   "cell_type": "markdown",
   "metadata": {},
   "source": [
    "Assessing model output in this way suggests that no change to the default alpha parameter value (1) is necessary, though differences in model accuracy and variance aren't particularly substantial.\n",
    "\n",
    "Moreover, it seems that this classification methods performs significantly better than just random guessing (an expected 50% accuracy rate based on the structure of the data). At the best model performance, I achieved an accuracy score of roughly 68.5%"
   ]
  },
  {
   "cell_type": "markdown",
   "metadata": {},
   "source": [
    "### Model Accuracy:"
   ]
  },
  {
   "cell_type": "code",
   "execution_count": 22,
   "metadata": {
    "scrolled": false
   },
   "outputs": [
    {
     "data": {
      "text/plain": [
       "<matplotlib.axes._subplots.AxesSubplot at 0x245f36f28d0>"
      ]
     },
     "execution_count": 22,
     "metadata": {},
     "output_type": "execute_result"
    },
    {
     "data": {
      "image/png": "[encoded data removed]",
      "text/plain": [
       "<matplotlib.figure.Figure at 0x245f36659e8>"
      ]
     },
     "metadata": {},
     "output_type": "display_data"
    }
   ],
   "source": [
    "mod_output = pd.DataFrame({\"alpha\": mod_alpha, \"acc\": mod_accuracy})\n",
    "output_summary = pd.DataFrame({\"mean\": mod_output.groupby(\"alpha\")[\"acc\"].mean(),\n",
    " \"var\": mod_output.groupby(\"alpha\")[\"acc\"].var()}).reset_index()\n",
    "\n",
    "output_summary.plot(x = \"alpha\", y = \"mean\", figsize=[10,7])"
   ]
  },
  {
   "cell_type": "markdown",
   "metadata": {},
   "source": [
    "### Accuracy Variance"
   ]
  },
  {
   "cell_type": "code",
   "execution_count": 23,
   "metadata": {
    "scrolled": false
   },
   "outputs": [
    {
     "data": {
      "text/plain": [
       "<matplotlib.axes._subplots.AxesSubplot at 0x2468e556f28>"
      ]
     },
     "execution_count": 23,
     "metadata": {},
     "output_type": "execute_result"
    },
    {
     "data": {
      "image/png": "[encoded data removed]",
      "text/plain": [
       "<matplotlib.figure.Figure at 0x245e078fb00>"
      ]
     },
     "metadata": {},
     "output_type": "display_data"
    }
   ],
   "source": [
    "output_summary.plot(x = \"alpha\", y = \"var\", figsize=[10,7])"
   ]
  },
  {
   "cell_type": "markdown",
   "metadata": {},
   "source": [
    "### Confusion Matrix\n",
    "\n",
    "Construction of the confusion matrix also confirms that this model does seem to perform better than the null, and doesn't seem to be showing a greater affinity for one label over another:"
   ]
  },
  {
   "cell_type": "code",
   "execution_count": 24,
   "metadata": {
    "scrolled": false
   },
   "outputs": [
    {
     "data": {
      "text/html": [
       "<div>\n",
       "<style scoped>\n",
       "    .dataframe tbody tr th:only-of-type {\n",
       "        vertical-align: middle;\n",
       "    }\n",
       "\n",
       "    .dataframe tbody tr th {\n",
       "        vertical-align: top;\n",
       "    }\n",
       "\n",
       "    .dataframe thead th {\n",
       "        text-align: right;\n",
       "    }\n",
       "</style>\n",
       "<table border=\"1\" class=\"dataframe\">\n",
       "  <thead>\n",
       "    <tr style=\"text-align: right;\">\n",
       "      <th></th>\n",
       "      <th>Pred: Climate Change</th>\n",
       "      <th>Pred: Global Warming</th>\n",
       "    </tr>\n",
       "  </thead>\n",
       "  <tbody>\n",
       "    <tr>\n",
       "      <th>Obs: Climate Change</th>\n",
       "      <td>639</td>\n",
       "      <td>372</td>\n",
       "    </tr>\n",
       "    <tr>\n",
       "      <th>Obs: Global Warming</th>\n",
       "      <td>282</td>\n",
       "      <td>707</td>\n",
       "    </tr>\n",
       "  </tbody>\n",
       "</table>\n",
       "</div>"
      ],
      "text/plain": [
       "                     Pred: Climate Change  Pred: Global Warming\n",
       "Obs: Climate Change                   639                   372\n",
       "Obs: Global Warming                   282                   707"
      ]
     },
     "execution_count": 24,
     "metadata": {},
     "output_type": "execute_result"
    }
   ],
   "source": [
    "# Splits data into a 90:10 train:test split\n",
    "X_train, X_test, y_train, y_test = train_test_split(text, target, test_size=.1, random_state=0)\n",
    "\n",
    "# Generates IDF\n",
    "tfit, cols = fit_tfidf(X_train)\n",
    "\n",
    "# Fits classifier and predicts new labels\n",
    "clf = BernoulliNB(alpha=1).fit(tfit.transform(X_train), y_train)\n",
    "X_new_tfidf = tfit.transform(X_test)\n",
    "y_pred = clf.predict(X_new_tfidf)\n",
    "\n",
    "# Generates confusion matrix\n",
    "confusion_matrix = pd.DataFrame(metrics.confusion_matrix(y_test, y_pred))\n",
    "confusion_matrix.columns = [\"Pred: Climate Change\", \"Pred: Global Warming\"]\n",
    "confusion_matrix.index = [\"Obs: Climate Change\", \"Obs: Global Warming\"]\n",
    "confusion_matrix"
   ]
  },
  {
   "cell_type": "markdown",
   "metadata": {},
   "source": [
    "### Feature comparison\n",
    "\n",
    "Extracting the feature log probabilities of this model suggests some interesting associations. \"Trump\", for example, is one of the more common phrases associated with the term \"climate change\", as is \"world\", and \"scientist\"."
   ]
  },
  {
   "cell_type": "code",
   "execution_count": 25,
   "metadata": {
    "scrolled": true
   },
   "outputs": [
    {
     "data": {
      "text/html": [
       "<div>\n",
       "<style scoped>\n",
       "    .dataframe tbody tr th:only-of-type {\n",
       "        vertical-align: middle;\n",
       "    }\n",
       "\n",
       "    .dataframe tbody tr th {\n",
       "        vertical-align: top;\n",
       "    }\n",
       "\n",
       "    .dataframe thead th {\n",
       "        text-align: right;\n",
       "    }\n",
       "</style>\n",
       "<table border=\"1\" class=\"dataframe\">\n",
       "  <thead>\n",
       "    <tr style=\"text-align: right;\">\n",
       "      <th></th>\n",
       "      <th>CC</th>\n",
       "      <th>GW</th>\n",
       "    </tr>\n",
       "  </thead>\n",
       "  <tbody>\n",
       "    <tr>\n",
       "      <th>trump</th>\n",
       "      <td>-2.634729</td>\n",
       "      <td>-3.373082</td>\n",
       "    </tr>\n",
       "    <tr>\n",
       "      <th>say</th>\n",
       "      <td>-2.816121</td>\n",
       "      <td>-2.887823</td>\n",
       "    </tr>\n",
       "    <tr>\n",
       "      <th>new</th>\n",
       "      <td>-2.961942</td>\n",
       "      <td>-3.190221</td>\n",
       "    </tr>\n",
       "    <tr>\n",
       "      <th>world</th>\n",
       "      <td>-3.028633</td>\n",
       "      <td>-3.298281</td>\n",
       "    </tr>\n",
       "    <tr>\n",
       "      <th>climate</th>\n",
       "      <td>-3.087822</td>\n",
       "      <td>-3.147999</td>\n",
       "    </tr>\n",
       "  </tbody>\n",
       "</table>\n",
       "</div>"
      ],
      "text/plain": [
       "               CC        GW\n",
       "trump   -2.634729 -3.373082\n",
       "say     -2.816121 -2.887823\n",
       "new     -2.961942 -3.190221\n",
       "world   -3.028633 -3.298281\n",
       "climate -3.087822 -3.147999"
      ]
     },
     "execution_count": 25,
     "metadata": {},
     "output_type": "execute_result"
    }
   ],
   "source": [
    "features = pd.DataFrame({\"CC\": clf.feature_log_prob_[0],\n",
    "                         \"GW\": clf.feature_log_prob_[1]})\n",
    "features.index = cols\n",
    "features.sort_values(\"CC\", ascending=False).head()"
   ]
  },
  {
   "cell_type": "markdown",
   "metadata": {},
   "source": [
    "Whiile posts are reported to be more likely to have the label \"global warming\" if they focus on terms like \"cause\", \"year\", as well as \"scientist\", like the above."
   ]
  },
  {
   "cell_type": "code",
   "execution_count": 26,
   "metadata": {},
   "outputs": [
    {
     "data": {
      "text/html": [
       "<div>\n",
       "<style scoped>\n",
       "    .dataframe tbody tr th:only-of-type {\n",
       "        vertical-align: middle;\n",
       "    }\n",
       "\n",
       "    .dataframe tbody tr th {\n",
       "        vertical-align: top;\n",
       "    }\n",
       "\n",
       "    .dataframe thead th {\n",
       "        text-align: right;\n",
       "    }\n",
       "</style>\n",
       "<table border=\"1\" class=\"dataframe\">\n",
       "  <thead>\n",
       "    <tr style=\"text-align: right;\">\n",
       "      <th></th>\n",
       "      <th>CC</th>\n",
       "      <th>GW</th>\n",
       "    </tr>\n",
       "  </thead>\n",
       "  <tbody>\n",
       "    <tr>\n",
       "      <th>cause</th>\n",
       "      <td>-3.427226</td>\n",
       "      <td>-2.659117</td>\n",
       "    </tr>\n",
       "    <tr>\n",
       "      <th>say</th>\n",
       "      <td>-2.816121</td>\n",
       "      <td>-2.887823</td>\n",
       "    </tr>\n",
       "    <tr>\n",
       "      <th>scientist</th>\n",
       "      <td>-3.110018</td>\n",
       "      <td>-2.945216</td>\n",
       "    </tr>\n",
       "    <tr>\n",
       "      <th>year</th>\n",
       "      <td>-3.594591</td>\n",
       "      <td>-3.059051</td>\n",
       "    </tr>\n",
       "    <tr>\n",
       "      <th>would</th>\n",
       "      <td>-3.570590</td>\n",
       "      <td>-3.122487</td>\n",
       "    </tr>\n",
       "  </tbody>\n",
       "</table>\n",
       "</div>"
      ],
      "text/plain": [
       "                 CC        GW\n",
       "cause     -3.427226 -2.659117\n",
       "say       -2.816121 -2.887823\n",
       "scientist -3.110018 -2.945216\n",
       "year      -3.594591 -3.059051\n",
       "would     -3.570590 -3.122487"
      ]
     },
     "execution_count": 26,
     "metadata": {},
     "output_type": "execute_result"
    }
   ],
   "source": [
    "features.sort_values(\"GW\", ascending=False).head()"
   ]
  },
  {
   "cell_type": "markdown",
   "metadata": {},
   "source": [
    "## Will this classifier also predict term use for President Trump's Tweets correctly?"
   ]
  },
  {
   "cell_type": "markdown",
   "metadata": {},
   "source": [
    "Just as a small proof-of-concept (and to check that my classifier functions runs correctly), I attempted to classify the text of the Tweets by President Trump first mentioned at the beginning of Section 1. It appears that the classifier appropriately modifies text and correctly predicts the use of the term \"global warming\" in both Tweets.\n",
    "\n",
    "A more significant comparison is necessary to make any concrete conclusion, but this finding suggests that these patterns of speech associated with different keyword use may be common across multiple internet sources."
   ]
  },
  {
   "cell_type": "code",
   "execution_count": 27,
   "metadata": {},
   "outputs": [
    {
     "data": {
      "text/plain": [
       "['concept create chinese order make u.s manufacturing noncompetitive',\n",
       " 'east could coldest new year eve record perhaps could use little bit good old country country go pay trillion dollar protect bundle']"
      ]
     },
     "execution_count": 27,
     "metadata": {},
     "output_type": "execute_result"
    }
   ],
   "source": [
    "tquotes = [\"The concept of global warming was created by and for the Chinese in order to make U.S. manufacturing non-competitive.\",\n",
    " \"In the East, it could be the COLDEST New Year’s Eve on record. Perhaps we could use a little bit of that good old Global Warming that our Country, but not other countries, was going to pay TRILLIONS OF DOLLARS to protect against. Bundle up!\"]\n",
    "\n",
    "blobs = [TextBlob(x) for x in tquotes]\n",
    "cleanblobs = [cleanBlob(x) for x in blobs]\n",
    "tquotes_clean = [str(x) for x in cleanblobs]\n",
    "tquotes_clean"
   ]
  },
  {
   "cell_type": "code",
   "execution_count": 28,
   "metadata": {
    "scrolled": true
   },
   "outputs": [
    {
     "name": "stdout",
     "output_type": "stream",
     "text": [
      "['global warming' 'global warming']\n"
     ]
    }
   ],
   "source": [
    "X_new_tfidf = tfit.transform(tquotes_clean)\n",
    "print(clf.predict(X_new_tfidf))"
   ]
  },
  {
   "cell_type": "markdown",
   "metadata": {},
   "source": [
    "# Conclusions:\n",
    "\n",
    "Together, these analyses produce tentative support for the notions that:\n",
    "\n",
    "__1. There is a seasonal pattern of interest in climate science, related to temperature patterns.__\n",
    "\n",
    "__2. Use of the terms \"global warming\" and \"climate change\" correlates with patterns of language and perspective.__\n",
    "\n",
    "These findings reflect key barriers to communication that may guide the ways in which environmental scientists engage in discussion about climate science. In response to seasonal patterns of interest, for example, researchers may benefit from timing their outreach to correlate with periods of attention, or increase efforts during summer months when interest dwindles.\n",
    "\n",
    "This analysis may also encourage scientists to think more carefully about their choice of terminology. While the term \"global warming\" is not necessarily wrong, it may convey consequences that aren't predicted by climate science. As a result, debate between individuals who prefer to use the term \"global warming\" and those who prefer \"climate change\" may start from fundamentally different assumptions. Attempting to come to common ground on terminology may be a critical step in developing more productive conclusions on how to address global climate change.\n",
    "\n",
    "Overcoming recency bias and use of misleading language is difficult, but I believe that this sort of analysis can help identify patterns that may eventually lead to improved methods of science communication.\n"
   ]
  }
 ],
 "metadata": {
  "anaconda-cloud": {},
  "kernelspec": {
   "display_name": "Python 3",
   "language": "python",
   "name": "python3"
  },
  "language_info": {
   "codemirror_mode": {
    "name": "ipython",
    "version": 3
   },
   "file_extension": ".py",
   "mimetype": "text/x-python",
   "name": "python",
   "nbconvert_exporter": "python",
   "pygments_lexer": "ipython3",
   "version": "3.6.3"
  }
 },
 "nbformat": 4,
 "nbformat_minor": 1
}
